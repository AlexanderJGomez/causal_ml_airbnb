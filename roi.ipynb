{
 "cells": [
  {
   "cell_type": "markdown",
   "metadata": {},
   "source": [
    "- Change number of years to 15\n",
    "- write up formula for cost incurred\n",
    "- causal effects\n",
    "- causal effect using conditionals or holding something constant\n",
    "- Show some example properties that have high ROI and why\n",
    "- are we missing relationships from latent variables\n",
    "- How does the model contradict the data"
   ]
  },
  {
   "cell_type": "markdown",
   "metadata": {},
   "source": [
    "$$\n",
    "\\frac{[\\sum_{i=0}^{29}((MonthlyPrice) * 12)^{1.05^i}]  - [\\text{Cost Incurred}]}{\\text{Cost Incurred}}\n",
    "$$"
   ]
  },
  {
   "cell_type": "markdown",
   "metadata": {},
   "source": [
    "[ROI Formula](https://smartasset.com/mortgage/mortgage-calculator#D0SNW5e3SF)"
   ]
  },
  {
   "cell_type": "code",
   "execution_count": 41,
   "metadata": {},
   "outputs": [
    {
     "name": "stdout",
     "output_type": "stream",
     "text": [
      "381.9322363723631\n"
     ]
    }
   ],
   "source": [
    "def calculate_monthly(P, mortgage_rate, num_years):\n",
    "    n = num_years * 12\n",
    "    monthly_i = mortgage_rate / 12\n",
    "    numerator = monthly_i*(1 + monthly_i)**n\n",
    "    denominator = ((1+monthly_i)**n) - 1\n",
    "    return P * numerator / denominator\n",
    "print(calculate_monthly(P=80000, mortgage_rate=0.04, num_years=30))\n",
    "\n",
    "def airbnb_income(price, inflation_rate, num_years):\n",
    "    total = 0\n",
    "    for year_number in range(num_years):\n",
    "        curr_inflation = (1 + inflation_rate)**year_number\n",
    "        total += (price * curr_inflation) * 12\n",
    "    return total"
   ]
  },
  {
   "cell_type": "code",
   "execution_count": 47,
   "metadata": {},
   "outputs": [
    {
     "data": {
      "text/plain": [
       "0.012429736766382765"
      ]
     },
     "execution_count": 47,
     "metadata": {},
     "output_type": "execute_result"
    }
   ],
   "source": [
    "def roi(zestimate, inflation_rate, mortgage_rate, num_years, rental_price, down_payment_percent):\n",
    "    down_payment = zestimate * down_payment_percent\n",
    "    P = zestimate * (1 - down_payment_percent)\n",
    "    \n",
    "    incurred_cost = calculate_monthly(P, mortgage_rate, num_years) * 12 * num_years + down_payment\n",
    "    \n",
    "    income = airbnb_income(price=rental_price,\n",
    "                           inflation_rate=inflation_rate,\n",
    "                           num_years=num_years)\n",
    "    \n",
    "    return (income - incurred_cost) / incurred_cost\n",
    "\n",
    "\n",
    "INFLATION_RATE = 0.028\n",
    "MORTGAGE_RATE = 0.036\n",
    "NUM_YEARS = 30\n",
    "DOWN_PAYMENT = 0.20\n",
    "\n",
    "roi(zestimate=100000,\n",
    "    rental_price=200,\n",
    "    inflation_rate=INFLATION_RATE,\n",
    "    mortgage_rate=MORTGAGE_RATE,\n",
    "    num_years=NUM_YEARS,\n",
    "    down_payment_percent=DOWN_PAYMENT\n",
    "   )"
   ]
  }
 ],
 "metadata": {
  "kernelspec": {
   "display_name": "Python 3",
   "language": "python",
   "name": "python3"
  },
  "language_info": {
   "codemirror_mode": {
    "name": "ipython",
    "version": 3
   },
   "file_extension": ".py",
   "mimetype": "text/x-python",
   "name": "python",
   "nbconvert_exporter": "python",
   "pygments_lexer": "ipython3",
   "version": "3.6.9"
  }
 },
 "nbformat": 4,
 "nbformat_minor": 2
}
