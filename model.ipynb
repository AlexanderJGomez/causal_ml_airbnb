{
 "cells": [
  {
   "cell_type": "code",
   "execution_count": 123,
   "metadata": {},
   "outputs": [],
   "source": [
    "import pyro\n",
    "import pyro.distributions as dist\n",
    "from pyro.infer import Importance, EmpiricalMarginal\n",
    "from statistics import mean\n",
    "import torch\n",
    "import matplotlib.pyplot as plt\n",
    "import pandas as pd\n",
    "import numpy as np\n",
    "from sklearn.linear_model import LinearRegression\n",
    "from sklearn.metrics import r2_score\n",
    "from sklearn.preprocessing import OneHotEncoder\n",
    "import statsmodels.api as sm\n",
    "from statsmodels.formula.api import ols\n",
    "import statsmodels.stats.multicomp\n",
    "pyro.set_rng_seed(101)"
   ]
  },
  {
   "cell_type": "code",
   "execution_count": 124,
   "metadata": {},
   "outputs": [],
   "source": [
    "df = pd.read_csv(\"data/test.csv\")"
   ]
  },
  {
   "cell_type": "markdown",
   "metadata": {},
   "source": [
    "# Building Models and Marginals for Nodes"
   ]
  },
  {
   "cell_type": "markdown",
   "metadata": {},
   "source": [
    "Taken from [this](https://pythonfordatascience.org/anova-2-way-n-way/) tutorial"
   ]
  },
  {
   "cell_type": "code",
   "execution_count": 125,
   "metadata": {
    "scrolled": true
   },
   "outputs": [
    {
     "name": "stdout",
     "output_type": "stream",
     "text": [
      "Overall model F( 4, 200) =  13.359, p =  0.0000\n"
     ]
    }
   ],
   "source": [
    "rent_model = ols('Rent ~ C(BPB)', df).fit()\n",
    "\n",
    "# Seeing if the overall model is significant\n",
    "print(f\"Overall model F({rent_model.df_model: .0f},{rent_model.df_resid: .0f}) = {rent_model.fvalue: .3f}, p = {rent_model.f_pvalue: .4f}\")\n"
   ]
  },
  {
   "cell_type": "markdown",
   "metadata": {},
   "source": [
    "Model is signficant"
   ]
  },
  {
   "cell_type": "code",
   "execution_count": 177,
   "metadata": {},
   "outputs": [
    {
     "data": {
      "text/html": [
       "<div>\n",
       "<style scoped>\n",
       "    .dataframe tbody tr th:only-of-type {\n",
       "        vertical-align: middle;\n",
       "    }\n",
       "\n",
       "    .dataframe tbody tr th {\n",
       "        vertical-align: top;\n",
       "    }\n",
       "\n",
       "    .dataframe thead th {\n",
       "        text-align: right;\n",
       "    }\n",
       "</style>\n",
       "<table border=\"1\" class=\"dataframe\">\n",
       "  <thead>\n",
       "    <tr style=\"text-align: right;\">\n",
       "      <th></th>\n",
       "      <th>sum_sq</th>\n",
       "      <th>df</th>\n",
       "      <th>F</th>\n",
       "      <th>PR(&gt;F)</th>\n",
       "    </tr>\n",
       "  </thead>\n",
       "  <tbody>\n",
       "    <tr>\n",
       "      <th>C(BPB)</th>\n",
       "      <td>242221.823818</td>\n",
       "      <td>4.0</td>\n",
       "      <td>13.359283</td>\n",
       "      <td>1.148343e-09</td>\n",
       "    </tr>\n",
       "    <tr>\n",
       "      <th>Residual</th>\n",
       "      <td>906567.424962</td>\n",
       "      <td>200.0</td>\n",
       "      <td>NaN</td>\n",
       "      <td>NaN</td>\n",
       "    </tr>\n",
       "  </tbody>\n",
       "</table>\n",
       "</div>"
      ],
      "text/plain": [
       "                 sum_sq     df          F        PR(>F)\n",
       "C(BPB)    242221.823818    4.0  13.359283  1.148343e-09\n",
       "Residual  906567.424962  200.0        NaN           NaN"
      ]
     },
     "execution_count": 177,
     "metadata": {},
     "output_type": "execute_result"
    }
   ],
   "source": [
    "res = sm.stats.anova_lm(rent_model, typ= 2)\n",
    "rent_model_se = (res.sum_sq.Residual / res.df.Residual)**0.5\n",
    "res"
   ]
  },
  {
   "cell_type": "markdown",
   "metadata": {},
   "source": [
    "- Do OLS model for Zestimates\n",
    "- Get Neighborhood Marginal\n",
    "- Get BPB marginal\n",
    "- Get ROI function in the code"
   ]
  },
  {
   "cell_type": "code",
   "execution_count": 128,
   "metadata": {
    "scrolled": true
   },
   "outputs": [
    {
     "name": "stdout",
     "output_type": "stream",
     "text": [
      "Overall model F( 5, 199) =  8.702, p =  0.0000\n"
     ]
    }
   ],
   "source": [
    "zest_model = ols('Zest ~ C(BPB) + C(Neigh)', df).fit()\n",
    "\n",
    "# Seeing if the overall model is significant\n",
    "print(f\"Overall model F({zest_model.df_model: .0f},{zest_model.df_resid: .0f}) = {zest_model.fvalue: .3f}, p = {zest_model.f_pvalue: .4f}\")\n"
   ]
  },
  {
   "cell_type": "code",
   "execution_count": 176,
   "metadata": {
    "scrolled": true
   },
   "outputs": [
    {
     "data": {
      "text/html": [
       "<div>\n",
       "<style scoped>\n",
       "    .dataframe tbody tr th:only-of-type {\n",
       "        vertical-align: middle;\n",
       "    }\n",
       "\n",
       "    .dataframe tbody tr th {\n",
       "        vertical-align: top;\n",
       "    }\n",
       "\n",
       "    .dataframe thead th {\n",
       "        text-align: right;\n",
       "    }\n",
       "</style>\n",
       "<table border=\"1\" class=\"dataframe\">\n",
       "  <thead>\n",
       "    <tr style=\"text-align: right;\">\n",
       "      <th></th>\n",
       "      <th>sum_sq</th>\n",
       "      <th>df</th>\n",
       "      <th>F</th>\n",
       "      <th>PR(&gt;F)</th>\n",
       "    </tr>\n",
       "  </thead>\n",
       "  <tbody>\n",
       "    <tr>\n",
       "      <th>C(BPB)</th>\n",
       "      <td>9.832538e+11</td>\n",
       "      <td>4.0</td>\n",
       "      <td>0.417948</td>\n",
       "      <td>7.955891e-01</td>\n",
       "    </tr>\n",
       "    <tr>\n",
       "      <th>C(Neigh)</th>\n",
       "      <td>2.399361e+13</td>\n",
       "      <td>1.0</td>\n",
       "      <td>40.795532</td>\n",
       "      <td>1.170317e-09</td>\n",
       "    </tr>\n",
       "    <tr>\n",
       "      <th>Residual</th>\n",
       "      <td>1.170405e+14</td>\n",
       "      <td>199.0</td>\n",
       "      <td>NaN</td>\n",
       "      <td>NaN</td>\n",
       "    </tr>\n",
       "  </tbody>\n",
       "</table>\n",
       "</div>"
      ],
      "text/plain": [
       "                sum_sq     df          F        PR(>F)\n",
       "C(BPB)    9.832538e+11    4.0   0.417948  7.955891e-01\n",
       "C(Neigh)  2.399361e+13    1.0  40.795532  1.170317e-09\n",
       "Residual  1.170405e+14  199.0        NaN           NaN"
      ]
     },
     "execution_count": 176,
     "metadata": {},
     "output_type": "execute_result"
    }
   ],
   "source": [
    "res = sm.stats.anova_lm(zest_model, typ= 2)\n",
    "zest_model_se = (res.sum_sq.Residual / res.df.Residual)**0.5\n",
    "res"
   ]
  },
  {
   "cell_type": "markdown",
   "metadata": {},
   "source": [
    "### Functions for Calculating ROI"
   ]
  },
  {
   "cell_type": "code",
   "execution_count": 179,
   "metadata": {},
   "outputs": [],
   "source": [
    "# ROI Consts\n",
    "INFLATION_RATE = 0.028\n",
    "MORTGAGE_RATE = 0.036\n",
    "NUM_YEARS = 15\n",
    "DOWN_PAYMENT = 0.20\n",
    "\n",
    "def calculate_monthly(P, mortgage_rate, num_years):\n",
    "    n = num_years * 12\n",
    "    monthly_i = mortgage_rate / 12\n",
    "    numerator = monthly_i * (1 + monthly_i) ** n\n",
    "    denominator = ((1 + monthly_i) ** n) - 1\n",
    "    return P * numerator / denominator\n",
    "\n",
    "\n",
    "def airbnb_income(price, inflation_rate, num_years):\n",
    "    total = 0\n",
    "    for year_number in range(num_years):\n",
    "        curr_inflation = (1 + inflation_rate) ** year_number\n",
    "        total += (price * curr_inflation) * 12\n",
    "    return total\n",
    "\n",
    "def roi(zestimate, inflation_rate, mortgage_rate, num_years, rental_price, down_payment_percent):\n",
    "    down_payment = zestimate * down_payment_percent\n",
    "    P = zestimate * (1 - down_payment_percent)\n",
    "\n",
    "    incurred_cost = calculate_monthly(P, mortgage_rate, num_years) * 12 * num_years + down_payment\n",
    "\n",
    "    income = airbnb_income(price=rental_price,\n",
    "                           inflation_rate=inflation_rate,\n",
    "                           num_years=num_years)\n",
    "\n",
    "    return (income - incurred_cost) / incurred_cost\n"
   ]
  },
  {
   "cell_type": "markdown",
   "metadata": {},
   "source": [
    "# Model "
   ]
  },
  {
   "cell_type": "markdown",
   "metadata": {},
   "source": [
    "\\begin{align}\n",
    "Nb &= p(BPB=2)=p_2, p(BPB=3)=p_3, p(BPB=4)=p_4,p(BPB=5)=p_5, p(BPB=6)=p_6 \\\\\n",
    "Nr &= \\mathcal{N}(0, \\text{rent model standard error}) \\\\\n",
    "Nz &= \\mathcal{N}(0, \\text{zest model standard error}) \\\\\n",
    "Nn &= Bernoulli(p_{south})\\\\\\\\\n",
    "Neigh &= Nn \\\\\n",
    "BPB &= Nb \\\\\n",
    "Rent &= bpb_3 \\cdot a + bpb_4 \\cdot b + bpb_5 \\cdot d + bpb_6 \\cdot d + e +Nrent\\\\\n",
    "Zest &= bpb_3 \\cdot a + bpb_4 \\cdot b + bpb_5 \\cdot d + bpb_6 \\cdot d + NeighSouth \\cdot e + f + Nz \\\\\n",
    "ROI &= \\text{ROIfunc}(Rent, Zest)\n",
    "\\end{align}"
   ]
  },
  {
   "cell_type": "markdown",
   "metadata": {},
   "source": [
    "### Model 1"
   ]
  },
  {
   "cell_type": "code",
   "execution_count": 180,
   "metadata": {},
   "outputs": [
    {
     "name": "stdout",
     "output_type": "stream",
     "text": [
      "{'Neigh': tensor(0), 'BPB': tensor(2), 'Rent': tensor(196.4375), 'Zest': tensor(1726872.2500), 'ROI': tensor(-0.9798)}\n"
     ]
    }
   ],
   "source": [
    "Neigh_alias = ['Neigh_North', 'Neigh_South']\n",
    "BPB_alias = [2, 3, 4, 5, 6]\n",
    "\n",
    "north_prob = float(len(df[df['Neigh'] == 'Neigh_North']))/len(df)\n",
    "bpb_prob = [(df.BPB == a).count()/len(df) for a in BPB_alias]\n",
    "        \n",
    "\n",
    "Neigh_prob = torch.tensor([north_prob, 1- north_prob])\n",
    "BPB_prob = torch.tensor(bpb_prob)\n",
    "\n",
    "def model():\n",
    "    Neigh = pyro.sample(\"Neigh\", dist.Categorical(probs=Neigh_prob))\n",
    "    BPB = pyro.sample(\"BPB\", dist.Categorical(probs=BPB_prob))\n",
    "    \n",
    "    bpb_converted = BPB_alias[BPB]\n",
    "    neigh_converted = Neigh_alias[Neigh]\n",
    "    rent_pred = rent_model.predict(pd.DataFrame({'BPB': [bpb_converted]}))[0]\n",
    "    zest_pred = zest_model.predict(pd.DataFrame({'BPB': [bpb_converted], 'Neigh':[neigh_converted]}))[0]\n",
    "    \n",
    "    Rent = pyro.sample(\"Rent\", dist.Delta(torch.tensor(rent_pred)))\n",
    "    Zest = pyro.sample(\"Zest\", dist.Delta(torch.tensor(zest_pred)))\n",
    "    \n",
    "    ROI = pyro.sample(\"ROI\", dist.Delta(roi(zestimate=Zest,\n",
    "        rental_price=Rent,\n",
    "        inflation_rate=INFLATION_RATE,\n",
    "        mortgage_rate=MORTGAGE_RATE,\n",
    "        num_years=NUM_YEARS,\n",
    "        down_payment_percent=DOWN_PAYMENT)))\n",
    "    \n",
    "    return {'Neigh':Neigh, 'BPB':BPB, 'Rent':Rent, 'Zest': Zest, 'ROI':ROI}\n",
    "\n",
    "print(model())"
   ]
  },
  {
   "cell_type": "markdown",
   "metadata": {},
   "source": [
    "### Model 2 - SCM"
   ]
  },
  {
   "cell_type": "code",
   "execution_count": 259,
   "metadata": {},
   "outputs": [
    {
     "data": {
      "text/plain": [
       "tensor(11)"
      ]
     },
     "execution_count": 259,
     "metadata": {},
     "output_type": "execute_result"
    }
   ],
   "source": [
    "max(torch.tensor(10), torch.tensor(11))"
   ]
  },
  {
   "cell_type": "code",
   "execution_count": 264,
   "metadata": {},
   "outputs": [
    {
     "name": "stdout",
     "output_type": "stream",
     "text": [
      "{'Neigh': tensor(0.), 'BPB': tensor(0), 'Rent': tensor(90.5064), 'Zest': tensor(2450964.2500), 'ROI': tensor(-0.9934)}\n"
     ]
    }
   ],
   "source": [
    "Neigh_alias = ['Neigh_North', 'Neigh_South']\n",
    "BPB_alias = [2, 3, 4, 5, 6]\n",
    "\n",
    "south_prob = float(len(df[df['Neigh'] == 'Neigh_South']))/len(df)\n",
    "bpb_prob = [(df.BPB == a).count()/len(df) for a in BPB_alias]\n",
    "        \n",
    "\n",
    "# Neigh_prob = torch.tensor([north_prob, 1- north_prob])\n",
    "BPB_prob = torch.tensor(bpb_prob)\n",
    "\n",
    "exogenous_dists = {\n",
    "    'Nn': dist.Bernoulli(torch.tensor(south_prob)),\n",
    "    'Nb': dist.Categorical(BPB_prob),\n",
    "    'Nr': dist.Normal(torch.tensor(0.), torch.tensor(rent_model_se)),\n",
    "    'Nz': dist.Normal(torch.tensor(0.), torch.tensor(zest_model_se))\n",
    "}\n",
    "\n",
    "def scm(exogenous_dists):\n",
    "    Nn = pyro.sample(\"Nn\", exogenous_dists['Nn'])\n",
    "    Nb = pyro.sample(\"Nb\", exogenous_dists['Nb'])\n",
    "    Nr = pyro.sample(\"Nr\", exogenous_dists['Nr'])\n",
    "    Nz = pyro.sample(\"Nz\", exogenous_dists['Nz'])\n",
    "    \n",
    "    z_bounds = torch.tensor(zest_model_se)\n",
    "    r_bounds = torch.tensor(rent_model_se)\n",
    "\n",
    "    # Stay within 1 SD of 0\n",
    "    Nz = min(z_bounds, Nz)\n",
    "    Nz = max(-2 * z_bounds, Nz)\n",
    "    \n",
    "    Nr = min(r_bounds, Nr)\n",
    "    Nr = max(-2 * r_bounds, Nr)\n",
    "\n",
    "    Neigh = pyro.sample(\"Neigh\", dist.Delta(Nn))\n",
    "    BPB = pyro.sample(\"BPB\", dist.Delta(Nb))\n",
    "    \n",
    "    bpb_converted = BPB_alias[BPB.int()]\n",
    "    neigh_converted = Neigh_alias[Neigh.int()]\n",
    "    \n",
    "    rent_pred = rent_model.predict(pd.DataFrame({'BPB': [bpb_converted]}))[0]\n",
    "    zest_pred = zest_model.predict(pd.DataFrame({'BPB': [bpb_converted], 'Neigh':[neigh_converted]}))[0]\n",
    "    \n",
    "    Rent = pyro.sample(\"Rent\", dist.Delta(torch.tensor(rent_pred) + Nr))\n",
    "    Zest = pyro.sample(\"Zest\", dist.Delta(torch.tensor(zest_pred) + Nz))\n",
    "    \n",
    "    ROI = pyro.sample(\"ROI\", dist.Delta(roi(zestimate=Zest,\n",
    "        rental_price=Rent,\n",
    "        inflation_rate=INFLATION_RATE,\n",
    "        mortgage_rate=MORTGAGE_RATE,\n",
    "        num_years=NUM_YEARS,\n",
    "        down_payment_percent=DOWN_PAYMENT)))\n",
    "    \n",
    "    return {'Neigh':Neigh, 'BPB':BPB, 'Rent':Rent, 'Zest': Zest, 'ROI':ROI}\n",
    "\n",
    "print(scm(exogenous_dists))"
   ]
  },
  {
   "cell_type": "markdown",
   "metadata": {},
   "source": [
    "1. Evaluate the causal assumptions vs actual X\n",
    "2. Faithfulness assumption markov assumption X\n",
    "3. generate the prediction using do operations\n",
    "4. what are the best settings that can optimize ROI?\n",
    "5. once optimized, find things that look close to your \n",
    "6. find 5 candidates with intervention prediction\n",
    "    1. use them with model\n",
    "    2. predict for those candidates\n"
   ]
  },
  {
   "cell_type": "markdown",
   "metadata": {},
   "source": [
    "- Change number of years to 15\n",
    "- write up formula for cost incurred\n",
    "- causal effects X\n",
    "- causal effect using conditionals or holding something constant X\n",
    "- Show some example properties that have high ROI and why\n",
    "- are we missing relationships from latent variables\n",
    "- How does the model contradict the data\n",
    "- Next steps forward for the model"
   ]
  },
  {
   "cell_type": "markdown",
   "metadata": {},
   "source": [
    "# Causal Effect on ROI of Changing Neighborhoods\n",
    "\n",
    "$$\n",
    "P(ROI | do(Neigh=South)) - P(ROI|do(Neigh=North))\n",
    "$$"
   ]
  },
  {
   "cell_type": "code",
   "execution_count": 265,
   "metadata": {},
   "outputs": [],
   "source": [
    "south_model =  pyro.do(model, data={'Neigh': torch.tensor(Neigh_alias.index('Neigh_South'))})\n",
    "north_model = pyro.do(model, data={'Neigh': torch.tensor(Neigh_alias.index('Neigh_North'))})\n",
    "\n",
    "south_scm =  pyro.do(scm, data={'Neigh': torch.tensor(Neigh_alias.index('Neigh_South'))})\n",
    "north_scm = pyro.do(scm, data={'Neigh': torch.tensor(Neigh_alias.index('Neigh_North'))})\n"
   ]
  },
  {
   "cell_type": "markdown",
   "metadata": {},
   "source": [
    "### Insight: SCM Model has too much variance and so it makes it difficult to get good samples"
   ]
  },
  {
   "cell_type": "code",
   "execution_count": 268,
   "metadata": {},
   "outputs": [
    {
     "data": {
      "text/plain": [
       "0.017283333269879186"
      ]
     },
     "execution_count": 268,
     "metadata": {},
     "output_type": "execute_result"
    }
   ],
   "source": [
    "scm_south_roi_samples = [south_scm(exogenous_dists)['ROI'].item() for _ in range(2000)]\n",
    "scm_north_roi_samples = [north_scm(exogenous_dists)['ROI'].item() for _ in range(2000)]\n",
    "\n",
    "scm_causal_effect_neigh = mean(scm_south_roi_samples) - mean(scm_north_roi_samples)\n",
    "scm_causal_effect_neigh"
   ]
  },
  {
   "cell_type": "code",
   "execution_count": 269,
   "metadata": {},
   "outputs": [
    {
     "data": {
      "text/plain": [
       "(-0.9528884618002922,\n",
       " 0.5485602739980444,\n",
       " -6.0536065101623535,\n",
       " 19.584997177124023)"
      ]
     },
     "execution_count": 269,
     "metadata": {},
     "output_type": "execute_result"
    }
   ],
   "source": [
    "mean(scm_south_roi_samples), np.std(scm_south_roi_samples), min(scm_south_roi_samples), max(scm_south_roi_samples)"
   ]
  },
  {
   "cell_type": "markdown",
   "metadata": {},
   "source": [
    "### Insight: We will stick with original causal model"
   ]
  },
  {
   "cell_type": "markdown",
   "metadata": {},
   "source": [
    "# Should we pick a property in the North or the South?"
   ]
  },
  {
   "cell_type": "code",
   "execution_count": 270,
   "metadata": {},
   "outputs": [
    {
     "data": {
      "text/plain": [
       "0.013672425270080502"
      ]
     },
     "execution_count": 270,
     "metadata": {},
     "output_type": "execute_result"
    }
   ],
   "source": [
    "south_roi_samples = [south_model()['ROI'].item() for _ in range(2000)]\n",
    "north_roi_samples = [north_model()['ROI'].item() for _ in range(2000)]\n",
    "\n",
    "causal_effect_neigh = mean(south_roi_samples) - mean(north_roi_samples)\n",
    "causal_effect_neigh"
   ]
  },
  {
   "cell_type": "markdown",
   "metadata": {},
   "source": [
    "### Insights: 1.3% Increase In ROI from Investing in property in the South as opposed to the North\n",
    "- South includes: San Jose, Cupertino and other properties a bit further from SF\n",
    "- North includes: Mountain View, Palo Alto - properties in the heart of Silicon Valley and closer to SF"
   ]
  },
  {
   "cell_type": "markdown",
   "metadata": {},
   "source": [
    "# Causal Effect on ROI of Different Numbers of BPB"
   ]
  },
  {
   "cell_type": "code",
   "execution_count": 235,
   "metadata": {},
   "outputs": [],
   "source": [
    "bpb_roi_samples = []\n",
    "for i in range(len(BPB_alias)):\n",
    "    bpb = BPB_alias[i]\n",
    "    bpb_model = pyro.do(model, data={'BPB': torch.tensor(i)})\n",
    "    bpb_roi_samples.append([bpb_model()['ROI'].item() for _ in range(2000)])\n"
   ]
  },
  {
   "cell_type": "code",
   "execution_count": 239,
   "metadata": {},
   "outputs": [
    {
     "name": "stdout",
     "output_type": "stream",
     "text": [
      "2 -0.9814908715486527\n",
      "3 -0.9771505008637905\n",
      "4 -0.9738178409337997\n",
      "5 -0.9663166411519051\n",
      "6 -0.9710469388961792\n"
     ]
    }
   ],
   "source": [
    "for i in range(len(BPB_alias)):\n",
    "    bpb = BPB_alias[i]\n",
    "    print(bpb, mean(bpb_roi_samples[i]))"
   ]
  },
  {
   "cell_type": "markdown",
   "metadata": {},
   "source": [
    "### $P(ROI | do(BPB=5)) - P(ROI | do(BPB=2))$"
   ]
  },
  {
   "cell_type": "code",
   "execution_count": 243,
   "metadata": {},
   "outputs": [
    {
     "data": {
      "text/plain": [
       "0.01517423039674759"
      ]
     },
     "execution_count": 243,
     "metadata": {},
     "output_type": "execute_result"
    }
   ],
   "source": [
    "mean(bpb_roi_samples[3]) - mean(bpb_roi_samples[0])"
   ]
  },
  {
   "cell_type": "markdown",
   "metadata": {},
   "source": [
    "### Insights: 3 Beds 2 baths is the best configuration for maximizing ROI\n",
    "- You can increase ROI by 1.5% by doing 3 Beds 2 Baths over a 1 Bed 1 Bath"
   ]
  },
  {
   "cell_type": "markdown",
   "metadata": {},
   "source": [
    "# We are looking for a 2 bed 1 bath, which neighborhood should we go to?\n",
    "$$\n",
    "P(ROI | do(Neigh= North), BPB=3) - P(ROI | do(Neigh=South), BPB=3)\n",
    "$$"
   ]
  },
  {
   "cell_type": "code",
   "execution_count": 292,
   "metadata": {
    "scrolled": true
   },
   "outputs": [
    {
     "name": "stdout",
     "output_type": "stream",
     "text": [
      "𝑃(𝑅𝑂𝐼|𝑑𝑜(𝑁𝑒𝑖𝑔ℎ=𝑁𝑜𝑟𝑡ℎ),𝐵𝑃𝐵=2)−𝑃(𝑅𝑂𝐼|𝑑𝑜(𝑁𝑒𝑖𝑔ℎ=𝑆𝑜𝑢𝑡ℎ),𝐵𝑃𝐵=2) = -0.985 - -0.976 = -0.009\n",
      "𝑃(𝑅𝑂𝐼|𝑑𝑜(𝑁𝑒𝑖𝑔ℎ=𝑁𝑜𝑟𝑡ℎ),𝐵𝑃𝐵=3)−𝑃(𝑅𝑂𝐼|𝑑𝑜(𝑁𝑒𝑖𝑔ℎ=𝑆𝑜𝑢𝑡ℎ),𝐵𝑃𝐵=3) = -0.983 - -0.970 = -0.013\n",
      "𝑃(𝑅𝑂𝐼|𝑑𝑜(𝑁𝑒𝑖𝑔ℎ=𝑁𝑜𝑟𝑡ℎ),𝐵𝑃𝐵=4)−𝑃(𝑅𝑂𝐼|𝑑𝑜(𝑁𝑒𝑖𝑔ℎ=𝑆𝑜𝑢𝑡ℎ),𝐵𝑃𝐵=4) = -0.980 - -0.966 = -0.014\n",
      "𝑃(𝑅𝑂𝐼|𝑑𝑜(𝑁𝑒𝑖𝑔ℎ=𝑁𝑜𝑟𝑡ℎ),𝐵𝑃𝐵=5)−𝑃(𝑅𝑂𝐼|𝑑𝑜(𝑁𝑒𝑖𝑔ℎ=𝑆𝑜𝑢𝑡ℎ),𝐵𝑃𝐵=5) = -0.974 - -0.956 = -0.019\n",
      "𝑃(𝑅𝑂𝐼|𝑑𝑜(𝑁𝑒𝑖𝑔ℎ=𝑁𝑜𝑟𝑡ℎ),𝐵𝑃𝐵=6)−𝑃(𝑅𝑂𝐼|𝑑𝑜(𝑁𝑒𝑖𝑔ℎ=𝑆𝑜𝑢𝑡ℎ),𝐵𝑃𝐵=6) = -0.977 - -0.964 = -0.013\n"
     ]
    }
   ],
   "source": [
    "for bpb_index in range(len(BPB_alias)):\n",
    "    bpb = BPB_alias[bpb_index]\n",
    "    roi_means = []\n",
    "    cond_model = pyro.condition(model, {\"BPB\": bpb_index})\n",
    "\n",
    "    for neigh_index in range(len(Neigh_prob)):\n",
    "        curr_model = pyro.do(cond_model, {'Neigh': neigh_index}) \n",
    "        roi_mean = curr_model()['ROI'].item()\n",
    "        roi_means.append(roi_mean)\n",
    "\n",
    "    print(\"𝑃(𝑅𝑂𝐼|𝑑𝑜(𝑁𝑒𝑖𝑔ℎ=𝑁𝑜𝑟𝑡ℎ),𝐵𝑃𝐵=%d)−𝑃(𝑅𝑂𝐼|𝑑𝑜(𝑁𝑒𝑖𝑔ℎ=𝑆𝑜𝑢𝑡ℎ),𝐵𝑃𝐵=%d) = %.3f - %.3f = %.3f\" % (bpb,bpb,\n",
    "                                                                                          roi_means[0],\n",
    "                                                                                          roi_means[1],\n",
    "                                                                                          roi_means[0] - roi_means[1]\n",
    "                                                                                         ))\n"
   ]
  },
  {
   "cell_type": "markdown",
   "metadata": {},
   "source": [
    "### Insight: No matter which BPB you are looking at, it is always better to pick a property in the South"
   ]
  },
  {
   "cell_type": "markdown",
   "metadata": {},
   "source": [
    "# We are want to buy a property in the North, what size property would we want to get to maximize ROI?\n",
    "$$\n",
    "P(ROI | do(BPB= x), Neigh= North) - P(ROI | do(BPB=y), Neigh= North)\n",
    "$$"
   ]
  },
  {
   "cell_type": "code",
   "execution_count": 293,
   "metadata": {},
   "outputs": [
    {
     "name": "stdout",
     "output_type": "stream",
     "text": [
      "Neigh_North\n",
      "𝑃(𝑅𝑂𝐼|𝑑𝑜(𝐵𝑃𝐵=2),𝑁𝑒𝑖𝑔ℎ=Neigh_North) = -0.985\n",
      "𝑃(𝑅𝑂𝐼|𝑑𝑜(𝐵𝑃𝐵=3),𝑁𝑒𝑖𝑔ℎ=Neigh_North) = -0.983\n",
      "𝑃(𝑅𝑂𝐼|𝑑𝑜(𝐵𝑃𝐵=4),𝑁𝑒𝑖𝑔ℎ=Neigh_North) = -0.980\n",
      "𝑃(𝑅𝑂𝐼|𝑑𝑜(𝐵𝑃𝐵=5),𝑁𝑒𝑖𝑔ℎ=Neigh_North) = -0.974\n",
      "𝑃(𝑅𝑂𝐼|𝑑𝑜(𝐵𝑃𝐵=6),𝑁𝑒𝑖𝑔ℎ=Neigh_North) = -0.977\n",
      "Neigh_South\n",
      "𝑃(𝑅𝑂𝐼|𝑑𝑜(𝐵𝑃𝐵=2),𝑁𝑒𝑖𝑔ℎ=Neigh_South) = -0.976\n",
      "𝑃(𝑅𝑂𝐼|𝑑𝑜(𝐵𝑃𝐵=3),𝑁𝑒𝑖𝑔ℎ=Neigh_South) = -0.970\n",
      "𝑃(𝑅𝑂𝐼|𝑑𝑜(𝐵𝑃𝐵=4),𝑁𝑒𝑖𝑔ℎ=Neigh_South) = -0.966\n",
      "𝑃(𝑅𝑂𝐼|𝑑𝑜(𝐵𝑃𝐵=5),𝑁𝑒𝑖𝑔ℎ=Neigh_South) = -0.956\n",
      "𝑃(𝑅𝑂𝐼|𝑑𝑜(𝐵𝑃𝐵=6),𝑁𝑒𝑖𝑔ℎ=Neigh_South) = -0.964\n"
     ]
    }
   ],
   "source": [
    "for neigh_index in range(len(Neigh_prob)):\n",
    "    roi_means = []\n",
    "    cond_model = pyro.condition(model, {\"Neigh\": neigh_index})\n",
    "    neigh = Neigh_alias[neigh_index]\n",
    "    print(neigh)\n",
    "\n",
    "    for bpb_index in range(len(BPB_prob)):\n",
    "        bpb = BPB_alias[bpb_index]\n",
    "        curr_model = pyro.do(cond_model, {'BPB': bpb_index}) \n",
    "        roi_mean = curr_model()['ROI'].item()\n",
    "        print(\"𝑃(𝑅𝑂𝐼|𝑑𝑜(𝐵𝑃𝐵=%s),𝑁𝑒𝑖𝑔ℎ=%s) = %.3f\" % (bpb, neigh, roi_mean))\n"
   ]
  },
  {
   "cell_type": "markdown",
   "metadata": {},
   "source": [
    "### Insight: If you are interested in purchasing a property in the North, it should be a 3 bed 2 bath. If you are interested in purchasing a property in the South it should also be a 3 bed 2 bath."
   ]
  },
  {
   "cell_type": "markdown",
   "metadata": {},
   "source": [
    "# Next Steps\n",
    "\n",
    "1. **Get more data**\n",
    "2. Consider adding new nodes to the DAG\n",
    "    1. Individual Neighborhoods as opposed to North and South\n",
    "    2. Host and ratings\n",
    "    3. Distance to transit\n",
    "3. Reconsider new edges with our new data\n",
    "3. Test more complex functions to fit Rent and Zestimate\n",
    "    1. Currently using factor effects models\n",
    "4. Attempt to use SCM again\n",
    "    1. Our models have high Std Error so using SCM is difficult\n",
    "    2. Increasing the amount of data would also decrease Std. Error and help give better results from SCM"
   ]
  }
 ],
 "metadata": {
  "kernelspec": {
   "display_name": "Python 3",
   "language": "python",
   "name": "python3"
  },
  "language_info": {
   "codemirror_mode": {
    "name": "ipython",
    "version": 3
   },
   "file_extension": ".py",
   "mimetype": "text/x-python",
   "name": "python",
   "nbconvert_exporter": "python",
   "pygments_lexer": "ipython3",
   "version": "3.6.9"
  }
 },
 "nbformat": 4,
 "nbformat_minor": 2
}
