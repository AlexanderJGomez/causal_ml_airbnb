{
 "cells": [
  {
   "cell_type": "code",
   "execution_count": 1,
   "metadata": {},
   "outputs": [],
   "source": [
    "import pyro\n",
    "import pyro.distributions as dist\n",
    "from pyro.infer import Importance, EmpiricalMarginal\n",
    "from statistics import mean\n",
    "import torch\n",
    "import matplotlib.pyplot as plt\n",
    "import pandas as pd\n",
    "import numpy as np\n",
    "from sklearn.linear_model import LinearRegression\n",
    "from sklearn.metrics import r2_score\n",
    "from sklearn.preprocessing import OneHotEncoder\n",
    "import statsmodels.api as sm\n",
    "from statsmodels.formula.api import ols\n",
    "import statsmodels.stats.multicomp\n",
    "pyro.set_rng_seed(101)"
   ]
  },
  {
   "cell_type": "code",
   "execution_count": 2,
   "metadata": {},
   "outputs": [],
   "source": [
    "df = pd.read_csv(\"data/test.csv\")"
   ]
  },
  {
   "cell_type": "markdown",
   "metadata": {},
   "source": [
    "```r\n",
    "dag1 <- model2network(\"[Neigh][BPB][Zest|BPB:Neigh][Rent|BPB:Neigh][ROI|Zest:Rent]\")\n",
    "dag2 <- model2network(\"[latitude][longitude][BPB][Zest|BPB:latitude:longitude][Rent|BPB:latitude:longitude][ROI|Zest:Rent]\")\n",
    "dag3 <- model2network(\"[latlng][Type][BPB|Type][Zest|BPB:latlng:Type][Rent|BPB:latlng][ROI|Zest:Rent]\")\n",
    "dag4 <- model2network(\"[latlng][BPB][Zest|BPB:latlng][Rent|BPB:latlng][ROI|Zest:Rent]\")\n",
    "dag5 <- model2network(\"[Neigh][BPB][Zest|BPB:Neigh][Rent|BPB][ROI|Zest:Rent]\")\n",
    "```"
   ]
  },
  {
   "cell_type": "markdown",
   "metadata": {},
   "source": [
    "# Building Models and CPTs for Nodes"
   ]
  },
  {
   "cell_type": "markdown",
   "metadata": {},
   "source": [
    "Taken from [this](https://pythonfordatascience.org/anova-2-way-n-way/) tutorial"
   ]
  },
  {
   "cell_type": "markdown",
   "metadata": {},
   "source": [
    "- Grab standard error and use as Nrent"
   ]
  },
  {
   "cell_type": "code",
   "execution_count": 3,
   "metadata": {
    "scrolled": true
   },
   "outputs": [
    {
     "name": "stdout",
     "output_type": "stream",
     "text": [
      "Overall model F( 4, 200) =  13.359, p =  0.0000\n"
     ]
    }
   ],
   "source": [
    "rent_model = ols('Rent ~ C(BPB)', df).fit()\n",
    "\n",
    "# Seeing if the overall model is significant\n",
    "print(f\"Overall model F({rent_model.df_model: .0f},{rent_model.df_resid: .0f}) = {rent_model.fvalue: .3f}, p = {rent_model.f_pvalue: .4f}\")\n"
   ]
  },
  {
   "cell_type": "code",
   "execution_count": 4,
   "metadata": {},
   "outputs": [
    {
     "data": {
      "text/plain": [
       "0    196.4375\n",
       "dtype: float64"
      ]
     },
     "execution_count": 4,
     "metadata": {},
     "output_type": "execute_result"
    }
   ],
   "source": [
    "rent_model.predict(pd.DataFrame({'BPB':[4]}))"
   ]
  },
  {
   "cell_type": "code",
   "execution_count": 5,
   "metadata": {},
   "outputs": [
    {
     "data": {
      "text/html": [
       "<div>\n",
       "<style scoped>\n",
       "    .dataframe tbody tr th:only-of-type {\n",
       "        vertical-align: middle;\n",
       "    }\n",
       "\n",
       "    .dataframe tbody tr th {\n",
       "        vertical-align: top;\n",
       "    }\n",
       "\n",
       "    .dataframe thead th {\n",
       "        text-align: right;\n",
       "    }\n",
       "</style>\n",
       "<table border=\"1\" class=\"dataframe\">\n",
       "  <thead>\n",
       "    <tr style=\"text-align: right;\">\n",
       "      <th></th>\n",
       "      <th>sum_sq</th>\n",
       "      <th>df</th>\n",
       "      <th>F</th>\n",
       "      <th>PR(&gt;F)</th>\n",
       "    </tr>\n",
       "  </thead>\n",
       "  <tbody>\n",
       "    <tr>\n",
       "      <th>C(BPB)</th>\n",
       "      <td>242221.823818</td>\n",
       "      <td>4.0</td>\n",
       "      <td>13.359283</td>\n",
       "      <td>1.148343e-09</td>\n",
       "    </tr>\n",
       "    <tr>\n",
       "      <th>Residual</th>\n",
       "      <td>906567.424962</td>\n",
       "      <td>200.0</td>\n",
       "      <td>NaN</td>\n",
       "      <td>NaN</td>\n",
       "    </tr>\n",
       "  </tbody>\n",
       "</table>\n",
       "</div>"
      ],
      "text/plain": [
       "                 sum_sq     df          F        PR(>F)\n",
       "C(BPB)    242221.823818    4.0  13.359283  1.148343e-09\n",
       "Residual  906567.424962  200.0        NaN           NaN"
      ]
     },
     "execution_count": 5,
     "metadata": {},
     "output_type": "execute_result"
    }
   ],
   "source": [
    "res = sm.stats.anova_lm(rent_model, typ= 2)\n",
    "res"
   ]
  },
  {
   "cell_type": "markdown",
   "metadata": {},
   "source": [
    "- Do OLS model for Zestimates\n",
    "- Get Neighborhood Marginal\n",
    "- Get BPB marginal\n",
    "- Get ROI function in the code"
   ]
  },
  {
   "cell_type": "code",
   "execution_count": 20,
   "metadata": {
    "scrolled": true
   },
   "outputs": [
    {
     "name": "stdout",
     "output_type": "stream",
     "text": [
      "Overall model F( 5, 199) =  8.702, p =  0.0000\n"
     ]
    }
   ],
   "source": [
    "zest_model = ols('Zest ~ C(BPB) + C(Neigh)', df).fit()\n",
    "\n",
    "# Seeing if the overall model is significant\n",
    "print(f\"Overall model F({zest_model.df_model: .0f},{zest_model.df_resid: .0f}) = {zest_model.fvalue: .3f}, p = {zest_model.f_pvalue: .4f}\")\n"
   ]
  },
  {
   "cell_type": "code",
   "execution_count": 12,
   "metadata": {},
   "outputs": [
    {
     "data": {
      "text/html": [
       "<div>\n",
       "<style scoped>\n",
       "    .dataframe tbody tr th:only-of-type {\n",
       "        vertical-align: middle;\n",
       "    }\n",
       "\n",
       "    .dataframe tbody tr th {\n",
       "        vertical-align: top;\n",
       "    }\n",
       "\n",
       "    .dataframe thead th {\n",
       "        text-align: right;\n",
       "    }\n",
       "</style>\n",
       "<table border=\"1\" class=\"dataframe\">\n",
       "  <thead>\n",
       "    <tr style=\"text-align: right;\">\n",
       "      <th></th>\n",
       "      <th>sum_sq</th>\n",
       "      <th>df</th>\n",
       "      <th>F</th>\n",
       "      <th>PR(&gt;F)</th>\n",
       "    </tr>\n",
       "  </thead>\n",
       "  <tbody>\n",
       "    <tr>\n",
       "      <th>C(BPB)</th>\n",
       "      <td>9.832538e+11</td>\n",
       "      <td>4.0</td>\n",
       "      <td>0.412598</td>\n",
       "      <td>7.994449e-01</td>\n",
       "    </tr>\n",
       "    <tr>\n",
       "      <th>C(Neigh)</th>\n",
       "      <td>2.399361e+13</td>\n",
       "      <td>1.0</td>\n",
       "      <td>40.273283</td>\n",
       "      <td>1.512155e-09</td>\n",
       "    </tr>\n",
       "    <tr>\n",
       "      <th>C(BPB):C(Neigh)</th>\n",
       "      <td>8.653439e+11</td>\n",
       "      <td>4.0</td>\n",
       "      <td>0.363120</td>\n",
       "      <td>8.346705e-01</td>\n",
       "    </tr>\n",
       "    <tr>\n",
       "      <th>Residual</th>\n",
       "      <td>1.161751e+14</td>\n",
       "      <td>195.0</td>\n",
       "      <td>NaN</td>\n",
       "      <td>NaN</td>\n",
       "    </tr>\n",
       "  </tbody>\n",
       "</table>\n",
       "</div>"
      ],
      "text/plain": [
       "                       sum_sq     df          F        PR(>F)\n",
       "C(BPB)           9.832538e+11    4.0   0.412598  7.994449e-01\n",
       "C(Neigh)         2.399361e+13    1.0  40.273283  1.512155e-09\n",
       "C(BPB):C(Neigh)  8.653439e+11    4.0   0.363120  8.346705e-01\n",
       "Residual         1.161751e+14  195.0        NaN           NaN"
      ]
     },
     "execution_count": 12,
     "metadata": {},
     "output_type": "execute_result"
    }
   ],
   "source": [
    "res = sm.stats.anova_lm(zest_model, typ= 2)\n",
    "res"
   ]
  },
  {
   "cell_type": "code",
   "execution_count": 24,
   "metadata": {
    "scrolled": false
   },
   "outputs": [
    {
     "data": {
      "text/plain": [
       "0    1.063638e+06\n",
       "dtype: float64"
      ]
     },
     "execution_count": 24,
     "metadata": {},
     "output_type": "execute_result"
    }
   ],
   "source": [
    "zest_model.predict(pd.DataFrame({'BPB':[2], 'Neigh':['Neigh_South']}))"
   ]
  },
  {
   "cell_type": "code",
   "execution_count": 7,
   "metadata": {
    "scrolled": true
   },
   "outputs": [],
   "source": [
    "# zest_lr_dict = {}\n",
    "# for bpb in df.BPB.unique():\n",
    "#     subset = df[df.BPB == bpb]\n",
    "#     lr = LinearRegression()\n",
    "#     lr.fit(subset[['latlng']], subset.Zest)\n",
    "#     zest_lr_dict[bpb] = lr\n",
    "#     print(r2_score(subset.Zest, lr.predict(subset[['latlng']])), subset.shape[0])\n",
    "    \n",
    "# print(\"\\n\\n\")\n",
    "# rent_lr_dict = {}\n",
    "\n",
    "# for bpb in df.BPB.unique():\n",
    "#     subset = df[df.BPB == bpb]\n",
    "#     lr = LinearRegression()\n",
    "#     lr.fit(subset[['latlng']], subset.Rent)\n",
    "#     rent_lr_dict[bpb] = lr\n",
    "#     print(r2_score(subset.Rent, lr.predict(subset[['latlng']])), subset.shape[0])"
   ]
  },
  {
   "cell_type": "code",
   "execution_count": 25,
   "metadata": {},
   "outputs": [
    {
     "data": {
      "text/plain": [
       "0.5756097560975609"
      ]
     },
     "execution_count": 25,
     "metadata": {},
     "output_type": "execute_result"
    }
   ],
   "source": [
    "float(len(df.loc[df['Neigh'] == 'Neigh_North']))/len(df)"
   ]
  },
  {
   "cell_type": "code",
   "execution_count": 29,
   "metadata": {},
   "outputs": [
    {
     "data": {
      "text/plain": [
       "[0.13658536585365855,\n",
       " 0.16097560975609757,\n",
       " 0.3902439024390244,\n",
       " 0.25853658536585367,\n",
       " 0.05365853658536585]"
      ]
     },
     "execution_count": 29,
     "metadata": {},
     "output_type": "execute_result"
    }
   ],
   "source": [
    "[(df.BPB == a).sum()/len(df) for a in [2, 3, 4, 5, 6]]"
   ]
  },
  {
   "cell_type": "code",
   "execution_count": 33,
   "metadata": {},
   "outputs": [],
   "source": [
    "def calculate_monthly(P, mortgage_rate, num_years):\n",
    "    n = num_years * 12\n",
    "    monthly_i = mortgage_rate / 12\n",
    "    numerator = monthly_i * (1 + monthly_i) ** n\n",
    "    denominator = ((1 + monthly_i) ** n) - 1\n",
    "    return P * numerator / denominator\n",
    "\n",
    "\n",
    "def airbnb_income(price, inflation_rate, num_years):\n",
    "    total = 0\n",
    "    for year_number in range(num_years):\n",
    "        curr_inflation = (1 + inflation_rate) ** year_number\n",
    "        total += (price * curr_inflation) * 12\n",
    "    return total\n",
    "\n",
    "def roi(zestimate, inflation_rate, mortgage_rate, num_years, rental_price, down_payment_percent):\n",
    "    down_payment = zestimate * down_payment_percent\n",
    "    P = zestimate * (1 - down_payment_percent)\n",
    "\n",
    "    incurred_cost = calculate_monthly(P, mortgage_rate, num_years) * 12 * num_years + down_payment\n",
    "\n",
    "    income = airbnb_income(price=rental_price,\n",
    "                           inflation_rate=inflation_rate,\n",
    "                           num_years=num_years)\n",
    "\n",
    "    return (income - incurred_cost) / incurred_cost\n",
    "\n",
    "\n",
    "INFLATION_RATE = 0.028\n",
    "MORTGAGE_RATE = 0.036\n",
    "NUM_YEARS = 30\n",
    "DOWN_PAYMENT = 0.20\n"
   ]
  },
  {
   "cell_type": "code",
   "execution_count": 32,
   "metadata": {},
   "outputs": [
    {
     "ename": "PatsyError",
     "evalue": "predict requires that you use a DataFrame when predicting from a model\nthat was created using the formula api.\n\nThe original error message returned by patsy is:\nError converting data to categorical: observation with value tensor(1) does not match any of the expected levels (expected: [2, 3, ..., 5, 6])\n    Rent ~ C(BPB)\n           ^^^^^^",
     "output_type": "error",
     "traceback": [
      "\u001B[0;31m---------------------------------------------------------------------------\u001B[0m",
      "\u001B[0;31mKeyError\u001B[0m                                  Traceback (most recent call last)",
      "\u001B[0;32m/usr/local/lib/python3.6/dist-packages/patsy/categorical.py\u001B[0m in \u001B[0;36mcategorical_to_int\u001B[0;34m(data, levels, NA_action, origin)\u001B[0m\n\u001B[1;32m    345\u001B[0m             \u001B[0;32mtry\u001B[0m\u001B[0;34m:\u001B[0m\u001B[0;34m\u001B[0m\u001B[0;34m\u001B[0m\u001B[0m\n\u001B[0;32m--> 346\u001B[0;31m                 \u001B[0mout\u001B[0m\u001B[0;34m[\u001B[0m\u001B[0mi\u001B[0m\u001B[0;34m]\u001B[0m \u001B[0;34m=\u001B[0m \u001B[0mlevel_to_int\u001B[0m\u001B[0;34m[\u001B[0m\u001B[0mvalue\u001B[0m\u001B[0;34m]\u001B[0m\u001B[0;34m\u001B[0m\u001B[0;34m\u001B[0m\u001B[0m\n\u001B[0m\u001B[1;32m    347\u001B[0m             \u001B[0;32mexcept\u001B[0m \u001B[0mKeyError\u001B[0m\u001B[0;34m:\u001B[0m\u001B[0;34m\u001B[0m\u001B[0;34m\u001B[0m\u001B[0m\n",
      "\u001B[0;31mKeyError\u001B[0m: tensor(1)",
      "\nDuring handling of the above exception, another exception occurred:\n",
      "\u001B[0;31mPatsyError\u001B[0m                                Traceback (most recent call last)",
      "\u001B[0;32m/usr/local/lib/python3.6/dist-packages/statsmodels/base/model.py\u001B[0m in \u001B[0;36mpredict\u001B[0;34m(self, exog, transform, *args, **kwargs)\u001B[0m\n\u001B[1;32m   1075\u001B[0m             \u001B[0;32mtry\u001B[0m\u001B[0;34m:\u001B[0m\u001B[0;34m\u001B[0m\u001B[0;34m\u001B[0m\u001B[0m\n\u001B[0;32m-> 1076\u001B[0;31m                 \u001B[0mexog\u001B[0m \u001B[0;34m=\u001B[0m \u001B[0mdmatrix\u001B[0m\u001B[0;34m(\u001B[0m\u001B[0mdesign_info\u001B[0m\u001B[0;34m,\u001B[0m \u001B[0mexog\u001B[0m\u001B[0;34m,\u001B[0m \u001B[0mreturn_type\u001B[0m\u001B[0;34m=\u001B[0m\u001B[0;34m\"dataframe\"\u001B[0m\u001B[0;34m)\u001B[0m\u001B[0;34m\u001B[0m\u001B[0;34m\u001B[0m\u001B[0m\n\u001B[0m\u001B[1;32m   1077\u001B[0m             \u001B[0;32mexcept\u001B[0m \u001B[0mException\u001B[0m \u001B[0;32mas\u001B[0m \u001B[0mexc\u001B[0m\u001B[0;34m:\u001B[0m\u001B[0;34m\u001B[0m\u001B[0;34m\u001B[0m\u001B[0m\n",
      "\u001B[0;32m/usr/local/lib/python3.6/dist-packages/patsy/highlevel.py\u001B[0m in \u001B[0;36mdmatrix\u001B[0;34m(formula_like, data, eval_env, NA_action, return_type)\u001B[0m\n\u001B[1;32m    290\u001B[0m     (lhs, rhs) = _do_highlevel_design(formula_like, data, eval_env,\n\u001B[0;32m--> 291\u001B[0;31m                                       NA_action, return_type)\n\u001B[0m\u001B[1;32m    292\u001B[0m     \u001B[0;32mif\u001B[0m \u001B[0mlhs\u001B[0m\u001B[0;34m.\u001B[0m\u001B[0mshape\u001B[0m\u001B[0;34m[\u001B[0m\u001B[0;36m1\u001B[0m\u001B[0;34m]\u001B[0m \u001B[0;34m!=\u001B[0m \u001B[0;36m0\u001B[0m\u001B[0;34m:\u001B[0m\u001B[0;34m\u001B[0m\u001B[0;34m\u001B[0m\u001B[0m\n",
      "\u001B[0;32m/usr/local/lib/python3.6/dist-packages/patsy/highlevel.py\u001B[0m in \u001B[0;36m_do_highlevel_design\u001B[0;34m(formula_like, data, eval_env, NA_action, return_type)\u001B[0m\n\u001B[1;32m    168\u001B[0m                                      \u001B[0mNA_action\u001B[0m\u001B[0;34m=\u001B[0m\u001B[0mNA_action\u001B[0m\u001B[0;34m,\u001B[0m\u001B[0;34m\u001B[0m\u001B[0;34m\u001B[0m\u001B[0m\n\u001B[0;32m--> 169\u001B[0;31m                                      return_type=return_type)\n\u001B[0m\u001B[1;32m    170\u001B[0m     \u001B[0;32melse\u001B[0m\u001B[0;34m:\u001B[0m\u001B[0;34m\u001B[0m\u001B[0;34m\u001B[0m\u001B[0m\n",
      "\u001B[0;32m/usr/local/lib/python3.6/dist-packages/patsy/build.py\u001B[0m in \u001B[0;36mbuild_design_matrices\u001B[0;34m(design_infos, data, NA_action, return_type, dtype)\u001B[0m\n\u001B[1;32m    887\u001B[0m             \u001B[0;32mif\u001B[0m \u001B[0mfactor_info\u001B[0m \u001B[0;32mnot\u001B[0m \u001B[0;32min\u001B[0m \u001B[0mfactor_info_to_values\u001B[0m\u001B[0;34m:\u001B[0m\u001B[0;34m\u001B[0m\u001B[0;34m\u001B[0m\u001B[0m\n\u001B[0;32m--> 888\u001B[0;31m                 \u001B[0mvalue\u001B[0m\u001B[0;34m,\u001B[0m \u001B[0mis_NA\u001B[0m \u001B[0;34m=\u001B[0m \u001B[0m_eval_factor\u001B[0m\u001B[0;34m(\u001B[0m\u001B[0mfactor_info\u001B[0m\u001B[0;34m,\u001B[0m \u001B[0mdata\u001B[0m\u001B[0;34m,\u001B[0m \u001B[0mNA_action\u001B[0m\u001B[0;34m)\u001B[0m\u001B[0;34m\u001B[0m\u001B[0;34m\u001B[0m\u001B[0m\n\u001B[0m\u001B[1;32m    889\u001B[0m                 \u001B[0mfactor_info_to_isNAs\u001B[0m\u001B[0;34m[\u001B[0m\u001B[0mfactor_info\u001B[0m\u001B[0;34m]\u001B[0m \u001B[0;34m=\u001B[0m \u001B[0mis_NA\u001B[0m\u001B[0;34m\u001B[0m\u001B[0;34m\u001B[0m\u001B[0m\n",
      "\u001B[0;32m/usr/local/lib/python3.6/dist-packages/patsy/build.py\u001B[0m in \u001B[0;36m_eval_factor\u001B[0;34m(factor_info, data, NA_action)\u001B[0m\n\u001B[1;32m     84\u001B[0m         result = categorical_to_int(result, factor_info.categories, NA_action,\n\u001B[0;32m---> 85\u001B[0;31m                                     origin=factor_info.factor)\n\u001B[0m\u001B[1;32m     86\u001B[0m         \u001B[0;32massert\u001B[0m \u001B[0mresult\u001B[0m\u001B[0;34m.\u001B[0m\u001B[0mndim\u001B[0m \u001B[0;34m==\u001B[0m \u001B[0;36m1\u001B[0m\u001B[0;34m\u001B[0m\u001B[0;34m\u001B[0m\u001B[0m\n",
      "\u001B[0;32m/usr/local/lib/python3.6/dist-packages/patsy/categorical.py\u001B[0m in \u001B[0;36mcategorical_to_int\u001B[0;34m(data, levels, NA_action, origin)\u001B[0m\n\u001B[1;32m    361\u001B[0m                                  \u001B[0;34m\"any of the expected levels (expected: %s)\"\u001B[0m\u001B[0;34m\u001B[0m\u001B[0;34m\u001B[0m\u001B[0m\n\u001B[0;32m--> 362\u001B[0;31m                                  % (value, level_str), origin)\n\u001B[0m\u001B[1;32m    363\u001B[0m             \u001B[0;32mexcept\u001B[0m \u001B[0mTypeError\u001B[0m\u001B[0;34m:\u001B[0m\u001B[0;34m\u001B[0m\u001B[0;34m\u001B[0m\u001B[0m\n",
      "\u001B[0;31mPatsyError\u001B[0m: Error converting data to categorical: observation with value tensor(1) does not match any of the expected levels (expected: [2, 3, ..., 5, 6])\n    Rent ~ C(BPB)\n           ^^^^^^",
      "\nDuring handling of the above exception, another exception occurred:\n",
      "\u001B[0;31mPatsyError\u001B[0m                                Traceback (most recent call last)",
      "\u001B[0;32m<ipython-input-32-f592409c8405>\u001B[0m in \u001B[0;36m<module>\u001B[0;34m\u001B[0m\n\u001B[1;32m     21\u001B[0m         down_payment_percent=DOWN_PAYMENT)))\n\u001B[1;32m     22\u001B[0m     \u001B[0;32mreturn\u001B[0m \u001B[0;34m{\u001B[0m\u001B[0;34m'Neigh'\u001B[0m\u001B[0;34m:\u001B[0m\u001B[0mNeigh\u001B[0m\u001B[0;34m,\u001B[0m \u001B[0;34m'BPB'\u001B[0m\u001B[0;34m:\u001B[0m\u001B[0mBPB\u001B[0m\u001B[0;34m,\u001B[0m \u001B[0;34m'Rent'\u001B[0m\u001B[0;34m:\u001B[0m\u001B[0mRent\u001B[0m\u001B[0;34m,\u001B[0m \u001B[0;34m'Zest'\u001B[0m\u001B[0;34m:\u001B[0m \u001B[0mZest\u001B[0m\u001B[0;34m,\u001B[0m \u001B[0;34m'ROI'\u001B[0m\u001B[0;34m:\u001B[0m\u001B[0mROI\u001B[0m\u001B[0;34m}\u001B[0m\u001B[0;34m\u001B[0m\u001B[0;34m\u001B[0m\u001B[0m\n\u001B[0;32m---> 23\u001B[0;31m \u001B[0mprint\u001B[0m\u001B[0;34m(\u001B[0m\u001B[0mmodel\u001B[0m\u001B[0;34m(\u001B[0m\u001B[0;34m)\u001B[0m\u001B[0;34m)\u001B[0m\u001B[0;34m\u001B[0m\u001B[0;34m\u001B[0m\u001B[0m\n\u001B[0m",
      "\u001B[0;32m<ipython-input-32-f592409c8405>\u001B[0m in \u001B[0;36mmodel\u001B[0;34m()\u001B[0m\n\u001B[1;32m     12\u001B[0m     \u001B[0mNeigh\u001B[0m \u001B[0;34m=\u001B[0m \u001B[0mpyro\u001B[0m\u001B[0;34m.\u001B[0m\u001B[0msample\u001B[0m\u001B[0;34m(\u001B[0m\u001B[0;34m\"Neigh\"\u001B[0m\u001B[0;34m,\u001B[0m \u001B[0mdist\u001B[0m\u001B[0;34m.\u001B[0m\u001B[0mCategorical\u001B[0m\u001B[0;34m(\u001B[0m\u001B[0mprobs\u001B[0m\u001B[0;34m=\u001B[0m\u001B[0mNeigh_prob\u001B[0m\u001B[0;34m)\u001B[0m\u001B[0;34m)\u001B[0m\u001B[0;34m\u001B[0m\u001B[0;34m\u001B[0m\u001B[0m\n\u001B[1;32m     13\u001B[0m     \u001B[0mBPB\u001B[0m \u001B[0;34m=\u001B[0m \u001B[0mpyro\u001B[0m\u001B[0;34m.\u001B[0m\u001B[0msample\u001B[0m\u001B[0;34m(\u001B[0m\u001B[0;34m\"BPB\"\u001B[0m\u001B[0;34m,\u001B[0m \u001B[0mdist\u001B[0m\u001B[0;34m.\u001B[0m\u001B[0mCategorical\u001B[0m\u001B[0;34m(\u001B[0m\u001B[0mprobs\u001B[0m\u001B[0;34m=\u001B[0m\u001B[0mBPB_prob\u001B[0m\u001B[0;34m)\u001B[0m\u001B[0;34m)\u001B[0m\u001B[0;34m\u001B[0m\u001B[0;34m\u001B[0m\u001B[0m\n\u001B[0;32m---> 14\u001B[0;31m     \u001B[0mRent\u001B[0m \u001B[0;34m=\u001B[0m \u001B[0mpyro\u001B[0m\u001B[0;34m.\u001B[0m\u001B[0msample\u001B[0m\u001B[0;34m(\u001B[0m\u001B[0;34m\"Rent\"\u001B[0m\u001B[0;34m,\u001B[0m \u001B[0mdist\u001B[0m\u001B[0;34m.\u001B[0m\u001B[0mDelta\u001B[0m\u001B[0;34m(\u001B[0m\u001B[0mrent_model\u001B[0m\u001B[0;34m.\u001B[0m\u001B[0mpredict\u001B[0m\u001B[0;34m(\u001B[0m\u001B[0mpd\u001B[0m\u001B[0;34m.\u001B[0m\u001B[0mDataFrame\u001B[0m\u001B[0;34m(\u001B[0m\u001B[0;34m{\u001B[0m\u001B[0;34m'BPB'\u001B[0m\u001B[0;34m:\u001B[0m\u001B[0;34m[\u001B[0m\u001B[0mBPB\u001B[0m\u001B[0;34m]\u001B[0m\u001B[0;34m}\u001B[0m\u001B[0;34m)\u001B[0m\u001B[0;34m)\u001B[0m\u001B[0;34m)\u001B[0m\u001B[0;34m)\u001B[0m\u001B[0;34m\u001B[0m\u001B[0;34m\u001B[0m\u001B[0m\n\u001B[0m\u001B[1;32m     15\u001B[0m     \u001B[0mZest\u001B[0m \u001B[0;34m=\u001B[0m \u001B[0mpyro\u001B[0m\u001B[0;34m.\u001B[0m\u001B[0msample\u001B[0m\u001B[0;34m(\u001B[0m\u001B[0;34m\"Zest\"\u001B[0m\u001B[0;34m,\u001B[0m \u001B[0mdist\u001B[0m\u001B[0;34m.\u001B[0m\u001B[0mDelta\u001B[0m\u001B[0;34m(\u001B[0m\u001B[0mzest_model\u001B[0m\u001B[0;34m.\u001B[0m\u001B[0mpredict\u001B[0m\u001B[0;34m(\u001B[0m\u001B[0mpd\u001B[0m\u001B[0;34m.\u001B[0m\u001B[0mDataFrame\u001B[0m\u001B[0;34m(\u001B[0m\u001B[0;34m{\u001B[0m\u001B[0;34m'BPB'\u001B[0m\u001B[0;34m:\u001B[0m\u001B[0;34m[\u001B[0m\u001B[0mBPB\u001B[0m\u001B[0;34m]\u001B[0m\u001B[0;34m,\u001B[0m \u001B[0;34m'Neigh'\u001B[0m\u001B[0;34m:\u001B[0m\u001B[0;34m[\u001B[0m\u001B[0mNeigh\u001B[0m\u001B[0;34m]\u001B[0m\u001B[0;34m}\u001B[0m\u001B[0;34m)\u001B[0m\u001B[0;34m)\u001B[0m\u001B[0;34m)\u001B[0m\u001B[0;34m)\u001B[0m\u001B[0;34m\u001B[0m\u001B[0;34m\u001B[0m\u001B[0m\n\u001B[1;32m     16\u001B[0m     ROI = pyro.sample(\"ROI\", dist.Delta(roi(zestimate=Zest,\n",
      "\u001B[0;32m/usr/local/lib/python3.6/dist-packages/statsmodels/base/model.py\u001B[0m in \u001B[0;36mpredict\u001B[0;34m(self, exog, transform, *args, **kwargs)\u001B[0m\n\u001B[1;32m   1081\u001B[0m                        \u001B[0;34m'\\n\\nThe original error message returned by patsy is:\\n'\u001B[0m\u001B[0;34m\u001B[0m\u001B[0;34m\u001B[0m\u001B[0m\n\u001B[1;32m   1082\u001B[0m                        '{0}'.format(str(str(exc))))\n\u001B[0;32m-> 1083\u001B[0;31m                 \u001B[0;32mraise\u001B[0m \u001B[0mexc\u001B[0m\u001B[0;34m.\u001B[0m\u001B[0m__class__\u001B[0m\u001B[0;34m(\u001B[0m\u001B[0mmsg\u001B[0m\u001B[0;34m)\u001B[0m\u001B[0;34m\u001B[0m\u001B[0;34m\u001B[0m\u001B[0m\n\u001B[0m\u001B[1;32m   1084\u001B[0m             \u001B[0;32mif\u001B[0m \u001B[0morig_exog_len\u001B[0m \u001B[0;34m>\u001B[0m \u001B[0mlen\u001B[0m\u001B[0;34m(\u001B[0m\u001B[0mexog\u001B[0m\u001B[0;34m)\u001B[0m \u001B[0;32mand\u001B[0m \u001B[0;32mnot\u001B[0m \u001B[0mis_dict\u001B[0m\u001B[0;34m:\u001B[0m\u001B[0;34m\u001B[0m\u001B[0;34m\u001B[0m\u001B[0m\n\u001B[1;32m   1085\u001B[0m                 \u001B[0;32mimport\u001B[0m \u001B[0mwarnings\u001B[0m\u001B[0;34m\u001B[0m\u001B[0;34m\u001B[0m\u001B[0m\n",
      "\u001B[0;31mPatsyError\u001B[0m: predict requires that you use a DataFrame when predicting from a model\nthat was created using the formula api.\n\nThe original error message returned by patsy is:\nError converting data to categorical: observation with value tensor(1) does not match any of the expected levels (expected: [2, 3, ..., 5, 6])\n    Rent ~ C(BPB)\n           ^^^^^^"
     ]
    }
   ],
   "source": [
    "Neigh_alias = ['Neigh_North','Neigh_South']\n",
    "BPB_alias = ['2', '3', '4', '5', '6']\n",
    "\n",
    "north_prob = float(len(df.loc[df['Neigh'] == 'Neigh_North']))/len(df)\n",
    "bpb_prob = [(df.BPB == a).count()/len(df) for a in BPB_alias]\n",
    "        \n",
    "\n",
    "Neigh_prob = torch.tensor([north_prob, 1- north_prob])\n",
    "BPB_prob = torch.tensor(bpb_prob)\n",
    "\n",
    "def model():\n",
    "    Neigh = pyro.sample(\"Neigh\", dist.Categorical(probs=Neigh_prob))\n",
    "    BPB = pyro.sample(\"BPB\", dist.Categorical(probs=BPB_prob))\n",
    "    Rent = pyro.sample(\"Rent\", dist.Delta(rent_model.predict(pd.DataFrame({'BPB':[BPB]}))))\n",
    "    Zest = pyro.sample(\"Zest\", dist.Delta(zest_model.predict(pd.DataFrame({'BPB':[BPB], 'Neigh':[Neigh]}))))\n",
    "    ROI = pyro.sample(\"ROI\", dist.Delta(roi(zestimate=Zest,\n",
    "        rental_price=Rent,\n",
    "        inflation_rate=INFLATION_RATE,\n",
    "        mortgage_rate=MORTGAGE_RATE,\n",
    "        num_years=NUM_YEARS,\n",
    "        down_payment_percent=DOWN_PAYMENT)))\n",
    "    return {'Neigh':Neigh, 'BPB':BPB, 'Rent':Rent, 'Zest': Zest, 'ROI':ROI}\n",
    "print(model())"
   ]
  },
  {
   "cell_type": "code",
   "execution_count": null,
   "metadata": {},
   "outputs": [],
   "source": [
    "exogenous_dists = {\n",
    "    'Nlatlng': dist.Bernoulli(torch.tensor(.5)),\n",
    "    'Ny': dist.Bernoulli(torch.tensor(.5)),\n",
    "    'Nz': dist.Bernoulli(torch.tensor(.5))\n",
    "}\n",
    "\n",
    "zest_lr = LinearRegression()\n",
    "zest_lr.fit(df[['BPB', 'latlng']], df.Zest)\n",
    "\n",
    "\n",
    "rent_lr = LinearRegression()\n",
    "rent_lr.fit(df[['BPB', 'latlng']], df.Rent)\n",
    "\n",
    "def model(exogenous_dists):\n",
    "    Nx = pyro.sample('Nlatlng', exogenous_dists['Nlatlng'])\n",
    "    Ny = pyro.sample('Ny', exogenous_dists['Ny'])\n",
    "    Nz = pyro.sample('Nz', exogenous_dists['Nz'])\n",
    "    \n",
    "    X = pyro.sample('X', dist.Delta(Nx))\n",
    "    Y = pyro.sample('Y', dist.Delta(Ny))\n",
    "    \n",
    "    Nz = dist.Normal(sd_zest_lr)\n",
    "    \n",
    "    Zest = pyro.sample('Zest', dist.Delta( + Nz))\n",
    "    \n",
    "    or_part = min(X+Y, torch.tensor(1))\n",
    "    and_part = (X * Y)\n",
    "    \n",
    "    Z = pyro.sample('Z', dist.Delta(Nz * or_part + (1 - Nz) * and_part))\n",
    "    return X, Y, Z"
   ]
  }
 ],
 "metadata": {
  "kernelspec": {
   "display_name": "Python 3",
   "language": "python",
   "name": "python3"
  },
  "language_info": {
   "codemirror_mode": {
    "name": "ipython",
    "version": 3
   },
   "file_extension": ".py",
   "mimetype": "text/x-python",
   "name": "python",
   "nbconvert_exporter": "python",
   "pygments_lexer": "ipython3",
   "version": "3.6.9"
  }
 },
 "nbformat": 4,
 "nbformat_minor": 2
}