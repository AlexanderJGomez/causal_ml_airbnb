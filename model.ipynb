{
 "cells": [
  {
   "cell_type": "code",
   "execution_count": 94,
   "metadata": {},
   "outputs": [],
   "source": [
    "import pyro\n",
    "import pyro.distributions as dist\n",
    "from pyro.infer import Importance, EmpiricalMarginal\n",
    "from statistics import mean\n",
    "import torch\n",
    "import matplotlib.pyplot as plt\n",
    "import pandas as pd\n",
    "import numpy as np\n",
    "from sklearn.linear_model import LinearRegression\n",
    "from sklearn.metrics import r2_score\n",
    "from sklearn.preprocessing import OneHotEncoder\n",
    "import statsmodels.api as sm\n",
    "from statsmodels.formula.api import ols\n",
    "import statsmodels.stats.multicomp\n",
    "pyro.set_rng_seed(101)"
   ]
  },
  {
   "cell_type": "code",
   "execution_count": 95,
   "metadata": {},
   "outputs": [],
   "source": [
    "df = pd.read_csv(\"data/test.csv\")"
   ]
  },
  {
   "cell_type": "markdown",
   "metadata": {},
   "source": [
    "```r\n",
    "dag1 <- model2network(\"[Neigh][BPB][Zest|BPB:Neigh][Rent|BPB:Neigh][ROI|Zest:Rent]\")\n",
    "dag2 <- model2network(\"[latitude][longitude][BPB][Zest|BPB:latitude:longitude][Rent|BPB:latitude:longitude][ROI|Zest:Rent]\")\n",
    "dag3 <- model2network(\"[latlng][Type][BPB|Type][Zest|BPB:latlng:Type][Rent|BPB:latlng][ROI|Zest:Rent]\")\n",
    "dag4 <- model2network(\"[latlng][BPB][Zest|BPB:latlng][Rent|BPB:latlng][ROI|Zest:Rent]\")\n",
    "dag5 <- model2network(\"[Neigh][BPB][Zest|BPB:Neigh][Rent|BPB][ROI|Zest:Rent]\")\n",
    "```"
   ]
  },
  {
   "cell_type": "markdown",
   "metadata": {},
   "source": [
    "# Building Models and CPTs for Nodes"
   ]
  },
  {
   "cell_type": "markdown",
   "metadata": {},
   "source": [
    "Taken from [this](https://pythonfordatascience.org/anova-2-way-n-way/) tutorial"
   ]
  },
  {
   "cell_type": "markdown",
   "metadata": {},
   "source": [
    "- Grab standard error and use as Nrent"
   ]
  },
  {
   "cell_type": "code",
   "execution_count": 118,
   "metadata": {
    "scrolled": true
   },
   "outputs": [
    {
     "name": "stdout",
     "output_type": "stream",
     "text": [
      "Overall model F( 4, 200) =  13.359, p =  0.0000\n"
     ]
    }
   ],
   "source": [
    "rent_model = ols('Rent ~ C(BPB)', df).fit()\n",
    "\n",
    "# Seeing if the overall model is significant\n",
    "print(f\"Overall model F({rent_model.df_model: .0f},{rent_model.df_resid: .0f}) = {rent_model.fvalue: .3f}, p = {rent_model.f_pvalue: .4f}\")\n"
   ]
  },
  {
   "cell_type": "code",
   "execution_count": 120,
   "metadata": {},
   "outputs": [
    {
     "data": {
      "text/plain": [
       "0    196.4375\n",
       "dtype: float64"
      ]
     },
     "execution_count": 120,
     "metadata": {},
     "output_type": "execute_result"
    }
   ],
   "source": [
    "rent_model.predict(pd.DataFrame({'BPB':[4]}))"
   ]
  },
  {
   "cell_type": "code",
   "execution_count": 121,
   "metadata": {},
   "outputs": [
    {
     "data": {
      "text/html": [
       "<div>\n",
       "<style scoped>\n",
       "    .dataframe tbody tr th:only-of-type {\n",
       "        vertical-align: middle;\n",
       "    }\n",
       "\n",
       "    .dataframe tbody tr th {\n",
       "        vertical-align: top;\n",
       "    }\n",
       "\n",
       "    .dataframe thead th {\n",
       "        text-align: right;\n",
       "    }\n",
       "</style>\n",
       "<table border=\"1\" class=\"dataframe\">\n",
       "  <thead>\n",
       "    <tr style=\"text-align: right;\">\n",
       "      <th></th>\n",
       "      <th>sum_sq</th>\n",
       "      <th>df</th>\n",
       "      <th>F</th>\n",
       "      <th>PR(&gt;F)</th>\n",
       "    </tr>\n",
       "  </thead>\n",
       "  <tbody>\n",
       "    <tr>\n",
       "      <th>C(BPB)</th>\n",
       "      <td>242221.823818</td>\n",
       "      <td>4.0</td>\n",
       "      <td>13.359283</td>\n",
       "      <td>1.148343e-09</td>\n",
       "    </tr>\n",
       "    <tr>\n",
       "      <th>Residual</th>\n",
       "      <td>906567.424962</td>\n",
       "      <td>200.0</td>\n",
       "      <td>NaN</td>\n",
       "      <td>NaN</td>\n",
       "    </tr>\n",
       "  </tbody>\n",
       "</table>\n",
       "</div>"
      ],
      "text/plain": [
       "                 sum_sq     df          F        PR(>F)\n",
       "C(BPB)    242221.823818    4.0  13.359283  1.148343e-09\n",
       "Residual  906567.424962  200.0        NaN           NaN"
      ]
     },
     "execution_count": 121,
     "metadata": {},
     "output_type": "execute_result"
    }
   ],
   "source": [
    "res = sm.stats.anova_lm(rent_model, typ= 2)\n",
    "res"
   ]
  },
  {
   "cell_type": "markdown",
   "metadata": {},
   "source": [
    "- Do OLS model for Zestimates\n",
    "- Get Neighborhood Marginal\n",
    "- Get BPB marginal\n",
    "- Get ROI function in the code"
   ]
  },
  {
   "cell_type": "code",
   "execution_count": 122,
   "metadata": {
    "scrolled": true
   },
   "outputs": [],
   "source": [
    "# zest_lr_dict = {}\n",
    "# for bpb in df.BPB.unique():\n",
    "#     subset = df[df.BPB == bpb]\n",
    "#     lr = LinearRegression()\n",
    "#     lr.fit(subset[['latlng']], subset.Zest)\n",
    "#     zest_lr_dict[bpb] = lr\n",
    "#     print(r2_score(subset.Zest, lr.predict(subset[['latlng']])), subset.shape[0])\n",
    "    \n",
    "# print(\"\\n\\n\")\n",
    "# rent_lr_dict = {}\n",
    "\n",
    "# for bpb in df.BPB.unique():\n",
    "#     subset = df[df.BPB == bpb]\n",
    "#     lr = LinearRegression()\n",
    "#     lr.fit(subset[['latlng']], subset.Rent)\n",
    "#     rent_lr_dict[bpb] = lr\n",
    "#     print(r2_score(subset.Rent, lr.predict(subset[['latlng']])), subset.shape[0])"
   ]
  },
  {
   "cell_type": "code",
   "execution_count": null,
   "metadata": {},
   "outputs": [],
   "source": [
    "exogenous_dists = {\n",
    "    'Nlatlng': dist.Bernoulli(torch.tensor(.5)),\n",
    "    'Ny': dist.Bernoulli(torch.tensor(.5)),\n",
    "    'Nz': dist.Bernoulli(torch.tensor(.5))\n",
    "}\n",
    "\n",
    "zest_lr = LinearRegression()\n",
    "zest_lr.fit(df[['BPB', 'latlng']], df.Zest)\n",
    "\n",
    "\n",
    "rent_lr = LinearRegression()\n",
    "rent_lr.fit(df[['BPB', 'latlng']], df.Rent)\n",
    "\n",
    "def model(exogenous_dists):\n",
    "    Nx = pyro.sample('Nlatlng', exogenous_dists['Nlatlng'])\n",
    "    Ny = pyro.sample('Ny', exogenous_dists['Ny'])\n",
    "    Nz = pyro.sample('Nz', exogenous_dists['Nz'])\n",
    "    \n",
    "    X = pyro.sample('X', dist.Delta(Nx))\n",
    "    Y = pyro.sample('Y', dist.Delta(Ny))\n",
    "    \n",
    "    Nz = dist.Normal(sd_zest_lr)\n",
    "    \n",
    "    Zest = pyro.sample('Zest', dist.Delta( + Nz))\n",
    "    \n",
    "    or_part = min(X+Y, torch.tensor(1))\n",
    "    and_part = (X * Y)\n",
    "    \n",
    "    Z = pyro.sample('Z', dist.Delta(Nz * or_part + (1 - Nz) * and_part))\n",
    "    return X, Y, Z"
   ]
  }
 ],
 "metadata": {
  "kernelspec": {
   "display_name": "Python 3",
   "language": "python",
   "name": "python3"
  },
  "language_info": {
   "codemirror_mode": {
    "name": "ipython",
    "version": 3
   },
   "file_extension": ".py",
   "mimetype": "text/x-python",
   "name": "python",
   "nbconvert_exporter": "python",
   "pygments_lexer": "ipython3",
   "version": "3.6.9"
  }
 },
 "nbformat": 4,
 "nbformat_minor": 2
}
